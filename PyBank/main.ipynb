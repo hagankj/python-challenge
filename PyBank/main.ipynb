{
 "cells": [
  {
   "cell_type": "code",
   "execution_count": 17,
   "id": "27dbe00b-567d-49dc-b2a8-b6374a7ae42c",
   "metadata": {},
   "outputs": [],
   "source": [
    "# Import libraries\n",
    "import pandas as pd\n",
    "from pathlib import Path"
   ]
  },
  {
   "cell_type": "code",
   "execution_count": 18,
   "id": "f8c15020-8a36-45f8-8762-230712dc976b",
   "metadata": {},
   "outputs": [],
   "source": [
    "# Load data\n",
    "csv_path = Path(\"../PyBank/Resources/budget_data.csv\")"
   ]
  },
  {
   "cell_type": "code",
   "execution_count": 19,
   "id": "e0b36478-5aec-4d8a-93af-99ba1fdc6095",
   "metadata": {},
   "outputs": [],
   "source": [
    "# Setup the read\n",
    "df = pd.read_csv(csv_path)"
   ]
  },
  {
   "cell_type": "code",
   "execution_count": 20,
   "id": "21d4b9d9-1144-4e7d-9191-6cf48c09ae2a",
   "metadata": {},
   "outputs": [
    {
     "data": {
      "text/plain": [
       "Date             86\n",
       "Profit/Losses    86\n",
       "dtype: int64"
      ]
     },
     "execution_count": 20,
     "metadata": {},
     "output_type": "execute_result"
    }
   ],
   "source": [
    "# Count records within file\n",
    "df.count()"
   ]
  },
  {
   "cell_type": "code",
   "execution_count": 21,
   "id": "66a36bab-a4e9-4c0b-94c7-aa328d93e79b",
   "metadata": {},
   "outputs": [
    {
     "name": "stdout",
     "output_type": "stream",
     "text": [
      "86\n"
     ]
    }
   ],
   "source": [
    "# Calculate the number of months in the dataset\n",
    "count_month = df['Date'].count()\n",
    "print(count_month)"
   ]
  },
  {
   "cell_type": "code",
   "execution_count": 22,
   "id": "0413015b-89c4-44ec-8205-8897bd0fea70",
   "metadata": {},
   "outputs": [
    {
     "name": "stdout",
     "output_type": "stream",
     "text": [
      "38382578\n"
     ]
    }
   ],
   "source": [
    "#Calculate the total amount of profit and losses over the given period\n",
    "sumpnl = df['Profit/Losses'].sum()\n",
    "print(sumpnl)"
   ]
  },
  {
   "cell_type": "code",
   "execution_count": 23,
   "id": "fd73bb8e-ddc4-4204-930d-8d26f764d8c0",
   "metadata": {},
   "outputs": [
    {
     "data": {
      "text/html": [
       "<div>\n",
       "<style scoped>\n",
       "    .dataframe tbody tr th:only-of-type {\n",
       "        vertical-align: middle;\n",
       "    }\n",
       "\n",
       "    .dataframe tbody tr th {\n",
       "        vertical-align: top;\n",
       "    }\n",
       "\n",
       "    .dataframe thead th {\n",
       "        text-align: right;\n",
       "    }\n",
       "</style>\n",
       "<table border=\"1\" class=\"dataframe\">\n",
       "  <thead>\n",
       "    <tr style=\"text-align: right;\">\n",
       "      <th></th>\n",
       "      <th>Date</th>\n",
       "      <th>Profit/Losses</th>\n",
       "      <th>difference</th>\n",
       "    </tr>\n",
       "  </thead>\n",
       "  <tbody>\n",
       "    <tr>\n",
       "      <th>0</th>\n",
       "      <td>Jan-2010</td>\n",
       "      <td>867884</td>\n",
       "      <td>NaN</td>\n",
       "    </tr>\n",
       "    <tr>\n",
       "      <th>1</th>\n",
       "      <td>Feb-2010</td>\n",
       "      <td>984655</td>\n",
       "      <td>116771.0</td>\n",
       "    </tr>\n",
       "    <tr>\n",
       "      <th>2</th>\n",
       "      <td>Mar-2010</td>\n",
       "      <td>322013</td>\n",
       "      <td>-662642.0</td>\n",
       "    </tr>\n",
       "    <tr>\n",
       "      <th>3</th>\n",
       "      <td>Apr-2010</td>\n",
       "      <td>-69417</td>\n",
       "      <td>-391430.0</td>\n",
       "    </tr>\n",
       "    <tr>\n",
       "      <th>4</th>\n",
       "      <td>May-2010</td>\n",
       "      <td>310503</td>\n",
       "      <td>379920.0</td>\n",
       "    </tr>\n",
       "  </tbody>\n",
       "</table>\n",
       "</div>"
      ],
      "text/plain": [
       "       Date  Profit/Losses  difference\n",
       "0  Jan-2010         867884         NaN\n",
       "1  Feb-2010         984655    116771.0\n",
       "2  Mar-2010         322013   -662642.0\n",
       "3  Apr-2010         -69417   -391430.0\n",
       "4  May-2010         310503    379920.0"
      ]
     },
     "execution_count": 23,
     "metadata": {},
     "output_type": "execute_result"
    }
   ],
   "source": [
    "#Create calculation for the difference between current and prior month performance.\n",
    "df['difference'] = df['Profit/Losses'].diff()\n",
    "df.head()"
   ]
  },
  {
   "cell_type": "code",
   "execution_count": 24,
   "id": "f0f65432-3067-4cd1-b16f-a923d306f3f5",
   "metadata": {},
   "outputs": [
    {
     "name": "stdout",
     "output_type": "stream",
     "text": [
      "-2315.12\n"
     ]
    }
   ],
   "source": [
    "#Create calculation to identify average month-over-month change in PnL\n",
    "average = round(df['difference'].mean(),2)\n",
    "print(average)"
   ]
  },
  {
   "cell_type": "code",
   "execution_count": 25,
   "id": "144860dc-26ca-4586-a86e-45113bd34829",
   "metadata": {},
   "outputs": [
    {
     "name": "stdout",
     "output_type": "stream",
     "text": [
      "[1926159.0]\n",
      "[-2196167.0]\n"
     ]
    }
   ],
   "source": [
    "#Create calculation to identify both the greatest increase as well as greatest decrease in PnL between prior and current month\n",
    "greatest_increase = df['difference'].max()\n",
    "greatest_decrease = df['difference'].min()\n",
    "print([greatest_increase])\n",
    "print([greatest_decrease])"
   ]
  },
  {
   "cell_type": "code",
   "execution_count": 26,
   "id": "594ff69e-9920-4c95-a889-f052a02fb397",
   "metadata": {},
   "outputs": [
    {
     "data": {
      "text/html": [
       "<div>\n",
       "<style scoped>\n",
       "    .dataframe tbody tr th:only-of-type {\n",
       "        vertical-align: middle;\n",
       "    }\n",
       "\n",
       "    .dataframe tbody tr th {\n",
       "        vertical-align: top;\n",
       "    }\n",
       "\n",
       "    .dataframe thead th {\n",
       "        text-align: right;\n",
       "    }\n",
       "</style>\n",
       "<table border=\"1\" class=\"dataframe\">\n",
       "  <thead>\n",
       "    <tr style=\"text-align: right;\">\n",
       "      <th></th>\n",
       "      <th>Date</th>\n",
       "      <th>Profit/Losses</th>\n",
       "      <th>difference</th>\n",
       "    </tr>\n",
       "  </thead>\n",
       "  <tbody>\n",
       "    <tr>\n",
       "      <th>25</th>\n",
       "      <td>Feb-2012</td>\n",
       "      <td>1170593</td>\n",
       "      <td>1926159.0</td>\n",
       "    </tr>\n",
       "  </tbody>\n",
       "</table>\n",
       "</div>"
      ],
      "text/plain": [
       "        Date  Profit/Losses  difference\n",
       "25  Feb-2012        1170593   1926159.0"
      ]
     },
     "execution_count": 26,
     "metadata": {},
     "output_type": "execute_result"
    }
   ],
   "source": [
    "#Identify index location of greatest increase in profits\n",
    "df.sort_values(by='difference', ascending=False).head(1)"
   ]
  },
  {
   "cell_type": "code",
   "execution_count": 27,
   "id": "d5479095-47fa-4ef0-a9d0-6e16f1e09425",
   "metadata": {},
   "outputs": [],
   "source": [
    "#Pull date of greatest increase in profits\n",
    "great_inc_month = df.loc[25, 'Date']"
   ]
  },
  {
   "cell_type": "code",
   "execution_count": 28,
   "id": "dc4aa042-ce76-44c5-ac72-12033e7e82bb",
   "metadata": {},
   "outputs": [
    {
     "data": {
      "text/html": [
       "<div>\n",
       "<style scoped>\n",
       "    .dataframe tbody tr th:only-of-type {\n",
       "        vertical-align: middle;\n",
       "    }\n",
       "\n",
       "    .dataframe tbody tr th {\n",
       "        vertical-align: top;\n",
       "    }\n",
       "\n",
       "    .dataframe thead th {\n",
       "        text-align: right;\n",
       "    }\n",
       "</style>\n",
       "<table border=\"1\" class=\"dataframe\">\n",
       "  <thead>\n",
       "    <tr style=\"text-align: right;\">\n",
       "      <th></th>\n",
       "      <th>Date</th>\n",
       "      <th>Profit/Losses</th>\n",
       "      <th>difference</th>\n",
       "    </tr>\n",
       "  </thead>\n",
       "  <tbody>\n",
       "    <tr>\n",
       "      <th>44</th>\n",
       "      <td>Sep-2013</td>\n",
       "      <td>-1196225</td>\n",
       "      <td>-2196167.0</td>\n",
       "    </tr>\n",
       "  </tbody>\n",
       "</table>\n",
       "</div>"
      ],
      "text/plain": [
       "        Date  Profit/Losses  difference\n",
       "44  Sep-2013       -1196225  -2196167.0"
      ]
     },
     "execution_count": 28,
     "metadata": {},
     "output_type": "execute_result"
    }
   ],
   "source": [
    "#Identify index location of greatest decrease in profits\n",
    "df.sort_values(by='difference', ascending=True).head(1)"
   ]
  },
  {
   "cell_type": "code",
   "execution_count": 29,
   "id": "74a6becc-b87f-428e-b2dd-d40a610ba38b",
   "metadata": {},
   "outputs": [],
   "source": [
    "#Pull date of greatest decrease in profits\n",
    "great_dec_month = df.loc[44,'Date']"
   ]
  },
  {
   "cell_type": "code",
   "execution_count": 31,
   "id": "648a246f-211f-45d2-b323-ddbeb9d96366",
   "metadata": {},
   "outputs": [
    {
     "name": "stdout",
     "output_type": "stream",
     "text": [
      "\n",
      "Financial Analysis\n",
      "---------------------\n",
      "Total Months: 86\n",
      "Total:$ 38382578\n",
      "Average Change:$ -2315.12\n",
      "Greatest Increase in Profits: Feb-2012 $ 1926159.0\n",
      "Greatest Decrease in Profits: Sep-2013 $ -2196167.0\n"
     ]
    }
   ],
   "source": [
    "#Print output of analyzed data\n",
    "print()\n",
    "print('Financial Analysis')\n",
    "print('---------------------')\n",
    "print('Total Months:', count_month )\n",
    "print('Total:'  '$', sumpnl)\n",
    "print('Average Change:' '$', average)\n",
    "print('Greatest Increase in Profits:' , great_inc_month , '$' , greatest_increase)\n",
    "print('Greatest Decrease in Profits:' , great_dec_month , '$' , greatest_decrease)"
   ]
  },
  {
   "cell_type": "code",
   "execution_count": null,
   "id": "61ba2998-b8bd-4821-a719-e914194cb791",
   "metadata": {},
   "outputs": [],
   "source": []
  }
 ],
 "metadata": {
  "kernelspec": {
   "display_name": "Python 3 (ipykernel)",
   "language": "python",
   "name": "python3"
  },
  "language_info": {
   "codemirror_mode": {
    "name": "ipython",
    "version": 3
   },
   "file_extension": ".py",
   "mimetype": "text/x-python",
   "name": "python",
   "nbconvert_exporter": "python",
   "pygments_lexer": "ipython3",
   "version": "3.7.13"
  }
 },
 "nbformat": 4,
 "nbformat_minor": 5
}
